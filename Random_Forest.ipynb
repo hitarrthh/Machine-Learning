{
  "cells": [
    {
      "cell_type": "code",
      "execution_count": null,
      "metadata": {
        "id": "TjO3ftw9E62X"
      },
      "outputs": [],
      "source": [
        "import pandas as pd\n",
        "from sklearn.model_selection import train_test_split\n",
        "from sklearn import metrics\n",
        "import matplotlib.pyplot as plt\n",
        "from sklearn.metrics import f1_score\n",
        "import seaborn as sns\n",
        "import numpy as np\n",
        "from scipy.stats import norm\n",
        "import math\n",
        "from sklearn.metrics import accuracy_score\n",
        "from sklearn.tree import DecisionTreeClassifier\n",
        "from sklearn.datasets import make_classification\n"
      ]
    },
    {
      "cell_type": "code",
      "execution_count": null,
      "metadata": {
        "id": "tsuhI-XwFn20"
      },
      "outputs": [],
      "source": [
        "df = pd.read_csv('/content/Breast_cancer_data.csv')\n",
        "df.head()\n",
        "target_attributes = 'diagnosis'"
      ]
    },
    {
      "cell_type": "code",
      "execution_count": null,
      "metadata": {
        "colab": {
          "base_uri": "https://localhost:8080/"
        },
        "id": "lSJcLMgwGEiO",
        "outputId": "c6c0ebe7-9651-4268-e556-e80b2950c155"
      },
      "outputs": [
        {
          "name": "stdout",
          "output_type": "stream",
          "text": [
            "ENTROPY\n",
            "DIAGNOSIS: 0.9526351224018599\n"
          ]
        }
      ],
      "source": [
        "def entropy(df, atri):\n",
        "    count = df[atri].value_counts()\n",
        "    entropy_value = 0\n",
        "    total_instance = count.sum()\n",
        "    for value_counts in count:\n",
        "        probability = value_counts / total_instance\n",
        "        entropy_value -= probability * math.log2(probability)\n",
        "    return entropy_value\n",
        "print(\"ENTROPY\")\n",
        "print(\"DIAGNOSIS:\",entropy(df,'diagnosis'))"
      ]
    },
    {
      "cell_type": "code",
      "execution_count": null,
      "metadata": {
        "id": "lVLKBBAOHGql"
      },
      "outputs": [],
      "source": [
        "def gain(df, target_attribute, attribute):\n",
        "    target_entropy = entropy(df, target_attribute)\n",
        "    info_gain = 0\n",
        "    attribute_counts = df[attribute].value_counts()\n",
        "    total_instances = attribute_counts.sum()\n",
        "    for value, count in attribute_counts.items():\n",
        "        subset = df[df[attribute] == value]\n",
        "        subset_entropy = entropy(subset, target_attribute)\n",
        "        info_gain += (count / total_instances) * subset_entropy\n",
        "    info_gain = target_entropy - info_gain\n",
        "    return info_gain"
      ]
    },
    {
      "cell_type": "code",
      "execution_count": null,
      "metadata": {
        "colab": {
          "base_uri": "https://localhost:8080/"
        },
        "id": "R1q-KG3yHP-8",
        "outputId": "aaf5fe9c-10b4-41b3-c5f3-15df4b25020f"
      },
      "outputs": [
        {
          "name": "stdout",
          "output_type": "stream",
          "text": [
            "Splitting attribute: mean_area\n"
          ]
        }
      ],
      "source": [
        "def split(df, prediction):\n",
        "    col_name = df.columns\n",
        "    col = col_name[1:-1]\n",
        "    size = len(df.index)\n",
        "    margin = 0\n",
        "    split_col = col[0]\n",
        "    e = entropy(df, prediction)\n",
        "    for i in col:\n",
        "        g = gain(df, prediction, i)\n",
        "        if margin < g:\n",
        "            split_col = i\n",
        "            margin = g\n",
        "    return split_col\n",
        "split_attribute = split(df, \"diagnosis\")\n",
        "print(\"Splitting attribute:\", split_attribute)"
      ]
    },
    {
      "cell_type": "code",
      "execution_count": null,
      "metadata": {
        "colab": {
          "base_uri": "https://localhost:8080/"
        },
        "id": "-aFns3AVHXbU",
        "outputId": "59cbbbeb-44c7-429b-ba31-07d5a6573cc7"
      },
      "outputs": [
        {
          "name": "stdout",
          "output_type": "stream",
          "text": [
            "{'ATTRIBUTE': 'mean_area', 'CHILDREN': {1001.0: 0, 1326.0: 0, 1203.0: 0, 386.1: 0, 1297.0: 0, 477.1: 0, 1040.0: 0, 577.9: 0, 519.8: 0, 475.9: 0, 797.8: 0, 781.0: 0, 1123.0: 0, 782.7: 0, 578.3: 0, 658.8: {'ATTRIBUTE': 'mean_texture', 'CHILDREN': {27.54: 0, 13.66: 1}}, 684.5: {'ATTRIBUTE': 'mean_texture', 'CHILDREN': {20.13: 0, 15.51: 1}}, 798.8: 0, 1260.0: 0, 566.3: 1, 520.0: 1, 273.9: 1, 704.4: 0, 1404.0: 0, 904.6: 0, 912.7: 0, 644.8: 0, 1094.0: 0, 732.4: 0, 955.1: 0, 1088.0: 0, 440.6: 0, 899.3: 0, 1162.0: 0, 807.2: 0, 869.5: 0, 633.0: 0, 523.8: 1, 698.8: 0, 559.2: {'ATTRIBUTE': 'mean_texture', 'CHILDREN': {20.82: 0, 10.94: 1}}, 563.0: 0, 371.1: 0, 1104.0: 0, 545.2: 0, 531.5: 0, 1076.0: 0, 201.9: 1, 534.6: 0, 449.3: 1, 561.0: 1, 427.9: 1, 571.8: 1, 437.6: 1, 1033.0: 0, 712.8: 0, 409.0: 1, 1152.0: 0, 656.9: 0, 527.2: 1, 224.5: 1, 311.9: 1, 221.8: 1, 645.7: 0, 260.9: 1, 499.0: 0, 668.3: 0, 269.4: 1, 394.1: 1, 250.5: 1, 502.5: 1, 1130.0: 0, 244.0: 1, 929.4: 0, 584.1: 0, 470.9: 1, 817.7: 0, 1006.0: 0, 1245.0: 0, 506.3: {'ATTRIBUTE': 'mean_texture', 'CHILDREN': {18.0: 1, 22.47: 0}}, 401.5: 1, 1878.0: 0, 1132.0: 0, 443.3: 1, 1075.0: 0, 648.2: 0, 466.1: 1, 651.9: 1, 662.7: 1, 728.2: 0, 551.7: 1, 555.1: 1, 705.6: 0, 1264.0: 0, 451.1: 1, 294.5: 1, 412.6: 1, 642.5: 0, 582.7: {'ATTRIBUTE': 'mean_texture', 'CHILDREN': {24.98: 0, 13.27: 1}}, 143.5: 1, 458.7: 1, 298.3: 1, 336.1: 1, 530.2: 0, 412.5: 1, 466.7: 1, 1509.0: 0, 396.5: 1, 290.2: 1, 480.4: 1, 629.9: 1, 334.2: 1, 230.9: 1, 438.6: 1, 245.2: 1, 682.5: 0, 782.6: 0, 982.0: 0, 403.3: 1, 1077.0: 0, 1761.0: 0, 640.7: 1, 553.5: 1, 588.7: 1, 572.6: 0, 1138.0: 0, 674.5: 1, 1192.0: 0, 455.8: 1, 748.9: 0, 809.8: 0, 761.7: 1, 423.6: 1, 399.8: 1, 678.1: 0, 384.8: 1, 288.5: 1, 813.0: 0, 398.0: 1, 512.2: 1, 355.3: 1, 432.8: 1, 432.0: {'ATTRIBUTE': 'mean_texture', 'CHILDREN': {16.58: 0, 21.54: 1}}, 689.5: 1, 640.1: 1, 585.0: 1, 519.4: 1, 203.9: 1, 300.2: 1, 381.9: 1, 538.9: 1, 460.3: 1, 963.7: 0, 880.2: 1, 448.6: 1, 366.8: 1, 419.8: 1, 1157.0: 0, 1214.0: 0, 464.5: 1, 1686.0: 0, 690.2: 1, 357.6: 1, 886.3: 0, 984.6: 0, 685.9: 1, 464.1: 1, 565.4: 0, 736.9: 0, 372.7: 1, 349.6: 1, 227.2: 1, 302.4: 1, 832.9: 0, 526.4: 1, 508.8: 1, 2250.0: 0, 1311.0: 0, 766.6: 0, 402.0: 1, 710.6: 0, 317.5: 1, 1041.0: 0, 420.3: 1, 428.9: 1, 463.7: 1, 609.9: 0, 507.4: 1, 288.1: 1, 477.4: 0, 671.4: 0, 516.4: 1, 588.9: 0, 1024.0: 0, 1148.0: 0, 642.7: 0, 461.0: 1, 951.6: 0, 1685.0: 0, 597.8: 0, 481.9: 1, 716.6: 0, 295.4: 1, 904.3: 0, 529.4: 1, 725.5: 1, 1290.0: 0, 428.0: 1, 2499.0: 0, 948.0: 0, 610.7: 0, 578.9: 0, 432.2: 1, 321.2: 1, 1230.0: 0, 1223.0: 0, 568.9: 1, 561.3: 1, 313.1: 1, 761.3: 0, 546.4: 1, 641.2: 1, 329.6: 1, 496.4: 1, 503.2: 0, 895.0: 0, 395.7: 1, 386.8: 1, 1319.0: 0, 279.6: 1, 603.4: 1, 1670.0: 0, 1306.0: 0, 623.9: 1, 920.6: 0, 575.3: 1, 476.5: 1, 389.4: 1, 590.0: 1, 1155.0: 0, 337.7: 1, 541.6: 1, 347.0: 1, 406.3: 1, 1364.0: 0, 407.4: 1, 1206.0: 0, 928.2: 0, 1169.0: 0, 602.4: 0, 1207.0: 0, 713.3: 0, 773.5: 0, 744.9: 0, 1288.0: 0, 933.1: 0, 947.8: 0, 758.6: 0, 928.3: 0, 1419.0: 0, 346.4: 1, 344.9: 1, 632.6: 1, 388.0: 1, 1491.0: 0, 289.9: 1, 998.9: 0, 435.6: 1, 396.6: 1, 1102.0: 0, 572.3: 1, 587.4: 1, 427.3: 1, 1145.0: 0, 805.1: 0, 516.6: 1, 489.0: 1, 441.0: 1, 515.9: 1, 396.0: 1, 651.0: 1, 687.3: 1, 513.7: 1, 432.7: 1, 492.1: 1, 363.7: 1, 431.1: 0, 633.1: 1, 1217.0: 0, 471.3: 1, 1247.0: 0, 334.3: 1, 403.1: 1, 417.2: 1, 537.3: 1, 246.3: 1, 566.2: 1, 530.6: 1, 418.7: 1, 664.9: 1, 504.1: 1, 409.1: 1, 221.2: 1, 481.6: 1, 461.4: 1, 1027.0: 0, 244.5: 1, 477.3: 1, 324.2: 1, 1274.0: 0, 504.8: 1, 457.9: 1, 489.9: 1, 616.5: 1, 446.0: 1, 813.7: 0, 826.8: 0, 793.2: 0, 514.0: 1, 387.3: 1, 390.0: 1, 464.4: 1, 918.6: 0, 514.3: 1, 1092.0: 0, 310.8: 1, 1747.0: 0, 280.5: 1, 373.9: 1, 1194.0: 0, 321.6: 1, 445.3: 1, 668.7: 1, 402.7: 1, 426.7: 1, 421.0: 1, 2010.0: 0, 384.6: 1, 485.8: 1, 512.0: 1, 593.7: 1, 241.0: 1, 278.6: 1, 491.9: 1, 546.1: 1, 496.6: 1, 838.1: 1, 552.4: 1, 1293.0: 0, 1234.0: 0, 458.4: 1, 1546.0: 0, 1482.0: 0, 840.4: 0, 711.8: 1, 1386.0: 0, 1335.0: 0, 579.1: 1, 788.5: 1, 338.3: 1, 562.1: 1, 580.6: 1, 361.6: {'ATTRIBUTE': 'mean_texture', 'CHILDREN': {18.83: 0, 24.21: 1}}, 386.3: 1, 447.8: 1, 462.9: 1, 541.8: 1, 664.7: 0, 462.0: 1, 596.6: 1, 392.0: 1, 1174.0: 0, 234.3: 1, 744.7: 0, 1407.0: 0, 446.2: 1, 609.1: 1, 558.1: 1, 508.3: 1, 378.2: 1, 431.9: 1, 994.0: 0, 442.7: 1, 525.2: 1, 507.6: 1, 469.1: 1, 370.0: 1, 800.0: 1, 514.5: 1, 991.7: 0, 373.2: 1, 268.8: 1, 693.7: 1, 719.5: 0, 433.8: 1, 271.2: 1, 803.1: 0, 495.0: 1, 380.3: 1, 409.7: 1, 656.1: 1, 408.2: 1, 289.7: 1, 307.3: 1, 333.6: 1, 359.9: 1, 381.1: 1, 501.3: 1, 685.0: 0, 467.8: 1, 1250.0: 0, 1110.0: 0, 673.7: 1, 599.5: 0, 509.2: 1, 611.2: 1, 592.6: 1, 606.5: 1, 371.5: 1, 928.8: 0, 585.9: 1, 340.9: 1, 990.0: 0, 441.3: 1, 981.6: 0, 674.8: 1, 659.7: 1, 1384.0: 0, 1191.0: 0, 442.5: 1, 644.2: 1, 492.9: 1, 557.2: 1, 415.1: 1, 537.9: 1, 520.2: 1, 290.9: 1, 930.9: 0, 2501.0: 0, 646.1: 1, 412.7: 1, 542.9: 1, 536.9: 1, 286.3: 1, 980.5: 0, 408.8: 1, 289.1: 1, 449.9: 1, 686.9: 1, 465.4: 1, 358.9: 1, 506.9: 1, 618.4: 1, 599.4: 1, 404.9: 1, 815.8: 0, 455.3: 1, 602.9: 1, 546.3: 1, 571.1: 1, 747.2: 1, 476.7: 1, 666.0: 1, 1167.0: 0, 420.5: 1, 857.6: 0, 466.5: 1, 992.1: 1, 1007.0: 0, 538.7: 1, 680.9: 1, 485.6: 1, 480.1: 1, 1068.0: 0, 1320.0: 0, 689.4: 1, 595.9: 0, 476.3: 1, 1682.0: 0, 248.7: 1, 272.5: 1, 453.1: 1, 366.5: 1, 819.8: 1, 731.3: 0, 426.0: 1, 680.7: 1, 556.7: 0, 701.9: 0, 391.2: 1, 1052.0: 0, 493.1: 1, 493.8: 1, 257.8: 1, 1841.0: 0, 388.1: 1, 571.0: 1, 293.2: 1, 221.3: 1, 551.1: 1, 468.5: 1, 594.2: 1, 445.2: 1, 422.9: 1, 416.2: 1, 575.5: 1, 1299.0: 0, 365.6: 1, 1308.0: 0, 629.8: 0, 406.4: 1, 178.8: 1, 170.4: 1, 402.9: 1, 656.4: 1, 668.6: 1, 538.4: 1, 584.8: 1, 573.2: 1, 324.9: 1, 320.8: 1, 285.7: 1, 360.5: 1, 378.4: 1, 507.9: 1, 264.0: 1, 321.4: 1, 311.7: 1, 271.3: 1, 657.1: 1, 403.5: 1, 600.4: 1, 386.0: 1, 716.9: 0, 1347.0: 0, 1479.0: 0, 1261.0: 0, 858.1: 0, 1265.0: 0, 181.0: 1}}\n"
          ]
        }
      ],
      "source": [
        "def iD3(df, target_attribute, attributes):\n",
        "    if df.empty:\n",
        "        return None\n",
        "    if len(df[target_attribute].unique()) == 1:\n",
        "        return df[target_attribute].iloc[0]\n",
        "    split_attribute = split(df, target_attribute)\n",
        "    root = {\"ATTRIBUTE\": split_attribute, \"CHILDREN\": {}}\n",
        "    for value in df[split_attribute].unique():\n",
        "        subset = df[df[split_attribute] == value]\n",
        "        root[\"CHILDREN\"][value] = iD3(subset, target_attribute, attributes.drop(split_attribute))\n",
        "    return root\n",
        "\n",
        "target_attribute = 'diagnosis'\n",
        "attributes = df.columns.drop(target_attribute)\n",
        "\n",
        "tree = iD3(df, target_attribute, attributes)\n",
        "print(tree)"
      ]
    },
    {
      "cell_type": "code",
      "execution_count": null,
      "metadata": {
        "colab": {
          "base_uri": "https://localhost:8080/"
        },
        "id": "3w6Zq2thHgO9",
        "outputId": "ea68e8ea-341e-45ab-c7ae-044a2920925d"
      },
      "outputs": [
        {
          "name": "stdout",
          "output_type": "stream",
          "text": [
            "ENTER NUMBER OF SAMPLES5\n",
            "ENTER THE SIZE OF SAMPLE3\n"
          ]
        },
        {
          "data": {
            "text/plain": [
              "[     mean_radius  mean_texture  mean_perimeter  mean_area  mean_smoothness  \\\n",
              " 319        12.43         17.00           78.60      477.3          0.07557   \n",
              " 284        12.89         15.70           84.08      516.6          0.07818   \n",
              " 269        10.71         20.39           69.50      344.9          0.10820   \n",
              " \n",
              "      diagnosis  \n",
              " 319          1  \n",
              " 284          1  \n",
              " 269          1  ,\n",
              "      mean_radius  mean_texture  mean_perimeter  mean_area  mean_smoothness  \\\n",
              " 397        12.80         17.46           83.05      508.3          0.08044   \n",
              " 179        12.81         13.06           81.29      508.8          0.08739   \n",
              " 283        16.24         18.77          108.80      805.1          0.10660   \n",
              " \n",
              "      diagnosis  \n",
              " 397          1  \n",
              " 179          1  \n",
              " 283          0  ,\n",
              "      mean_radius  mean_texture  mean_perimeter  mean_area  mean_smoothness  \\\n",
              " 105       13.110         15.56           87.21      530.2           0.1398   \n",
              " 66         9.465         21.01           60.11      269.4           0.1044   \n",
              " 28        15.300         25.27          102.40      732.4           0.1082   \n",
              " \n",
              "      diagnosis  \n",
              " 105          0  \n",
              " 66           1  \n",
              " 28           0  ,\n",
              "      mean_radius  mean_texture  mean_perimeter  mean_area  mean_smoothness  \\\n",
              " 305        11.60         24.49           74.23      417.2          0.07474   \n",
              " 162        19.59         18.15          130.70     1214.0          0.11200   \n",
              " 148        14.44         15.18           93.97      640.1          0.09970   \n",
              " \n",
              "      diagnosis  \n",
              " 305          1  \n",
              " 162          0  \n",
              " 148          1  ,\n",
              "      mean_radius  mean_texture  mean_perimeter  mean_area  mean_smoothness  \\\n",
              " 275        11.89         17.36           76.20      435.6          0.12250   \n",
              " 451        19.59         25.00          127.70     1191.0          0.10320   \n",
              " 440        10.97         17.20           71.73      371.5          0.08915   \n",
              " \n",
              "      diagnosis  \n",
              " 275          1  \n",
              " 451          0  \n",
              " 440          1  ]"
            ]
          },
          "execution_count": 7,
          "metadata": {},
          "output_type": "execute_result"
        }
      ],
      "source": [
        "def bootstrap(data,sample,size):\n",
        "  bootstrap_samples = []\n",
        "  for _ in range(sample):\n",
        "        indices = np.random.choice(len(data), size, replace=True)\n",
        "        bootstrap_sample = data.iloc[indices].copy()\n",
        "        bootstrap_samples.append(bootstrap_sample)\n",
        "  return bootstrap_samples\n",
        "original_data = pd.DataFrame({'Values': np.random.randint(0, 100, 100)})\n",
        "num_samples = int(input(\"ENTER NUMBER OF SAMPLES\"))\n",
        "sample_size = int(input(\"ENTER THE SIZE OF SAMPLE\"))\n",
        "ans = bootstrap(df,num_samples,sample_size)\n",
        "ans"
      ]
    },
    {
      "cell_type": "code",
      "execution_count": null,
      "metadata": {
        "id": "-p3LOjkJbcbS"
      },
      "outputs": [],
      "source": [
        "def train_decision_tree(bootstrap_sample, target_column):\n",
        "    decision_tree = DecisionTreeClassifier()\n",
        "    X = bootstrap_sample.drop(columns=[target_column])\n",
        "    y = bootstrap_sample[target_column]\n",
        "    decision_tree.fit(X, y)\n",
        "    return decision_tree\n"
      ]
    },
    {
      "cell_type": "code",
      "execution_count": null,
      "metadata": {
        "id": "Ab2ydVKKV1eX"
      },
      "outputs": [],
      "source": [
        "def predict_with_decision_tree(decision_tree, data):\n",
        "    return decision_tree.predict(data)\n"
      ]
    },
    {
      "cell_type": "code",
      "execution_count": null,
      "metadata": {
        "id": "B1GS4I7MaO7D"
      },
      "outputs": [],
      "source": [
        "def aggregate_predictions(predictions):\n",
        "    return mode(predictions, axis=0)[0].ravel()\n"
      ]
    },
    {
      "cell_type": "code",
      "execution_count": null,
      "metadata": {
        "id": "F37xs7weVp7u"
      },
      "outputs": [],
      "source": [
        "def random_forest_predict(original_data, num_samples, sample_size, target_column):\n",
        "    bootstrap_samples = bootstrap(original_data, num_samples, sample_size)\n",
        "    decision_trees = [train_decision_tree(bootstrap_sample, target_column) for bootstrap_sample in bootstrap_samples]\n",
        "    predictions = [predict_with_decision_tree(decision_tree, original_data.drop(columns=[target_column])) for decision_tree in decision_trees]\n",
        "    final_prediction = aggregate_predictions(predictions)\n",
        "    return final_prediction\n"
      ]
    },
    {
      "cell_type": "code",
      "execution_count": null,
      "metadata": {
        "colab": {
          "base_uri": "https://localhost:8080/",
          "height": 252
        },
        "id": "5nVfH4u-UQSy",
        "outputId": "6e514ebc-95ec-43bf-9379-a3b3f41e3cb1"
      },
      "outputs": [
        {
          "ename": "NameError",
          "evalue": "name 'mode' is not defined",
          "output_type": "error",
          "traceback": [
            "\u001b[0;31m---------------------------------------------------------------------------\u001b[0m",
            "\u001b[0;31mNameError\u001b[0m                                 Traceback (most recent call last)",
            "\u001b[0;32m<ipython-input-12-512fa39cb357>\u001b[0m in \u001b[0;36m<cell line: 1>\u001b[0;34m()\u001b[0m\n\u001b[0;32m----> 1\u001b[0;31m \u001b[0mfinal_prediction\u001b[0m \u001b[0;34m=\u001b[0m \u001b[0mrandom_forest_predict\u001b[0m\u001b[0;34m(\u001b[0m\u001b[0mdf\u001b[0m\u001b[0;34m,\u001b[0m \u001b[0mnum_samples\u001b[0m\u001b[0;34m,\u001b[0m \u001b[0msample_size\u001b[0m\u001b[0;34m,\u001b[0m \u001b[0mtarget_attributes\u001b[0m\u001b[0;34m)\u001b[0m\u001b[0;34m\u001b[0m\u001b[0;34m\u001b[0m\u001b[0m\n\u001b[0m\u001b[1;32m      2\u001b[0m \u001b[0mprint\u001b[0m\u001b[0;34m(\u001b[0m\u001b[0mfinal_prediction\u001b[0m\u001b[0;34m)\u001b[0m\u001b[0;34m\u001b[0m\u001b[0;34m\u001b[0m\u001b[0m\n",
            "\u001b[0;32m<ipython-input-11-fc923549edf0>\u001b[0m in \u001b[0;36mrandom_forest_predict\u001b[0;34m(original_data, num_samples, sample_size, target_column)\u001b[0m\n\u001b[1;32m      3\u001b[0m     \u001b[0mdecision_trees\u001b[0m \u001b[0;34m=\u001b[0m \u001b[0;34m[\u001b[0m\u001b[0mtrain_decision_tree\u001b[0m\u001b[0;34m(\u001b[0m\u001b[0mbootstrap_sample\u001b[0m\u001b[0;34m,\u001b[0m \u001b[0mtarget_column\u001b[0m\u001b[0;34m)\u001b[0m \u001b[0;32mfor\u001b[0m \u001b[0mbootstrap_sample\u001b[0m \u001b[0;32min\u001b[0m \u001b[0mbootstrap_samples\u001b[0m\u001b[0;34m]\u001b[0m\u001b[0;34m\u001b[0m\u001b[0;34m\u001b[0m\u001b[0m\n\u001b[1;32m      4\u001b[0m     \u001b[0mpredictions\u001b[0m \u001b[0;34m=\u001b[0m \u001b[0;34m[\u001b[0m\u001b[0mpredict_with_decision_tree\u001b[0m\u001b[0;34m(\u001b[0m\u001b[0mdecision_tree\u001b[0m\u001b[0;34m,\u001b[0m \u001b[0moriginal_data\u001b[0m\u001b[0;34m.\u001b[0m\u001b[0mdrop\u001b[0m\u001b[0;34m(\u001b[0m\u001b[0mcolumns\u001b[0m\u001b[0;34m=\u001b[0m\u001b[0;34m[\u001b[0m\u001b[0mtarget_column\u001b[0m\u001b[0;34m]\u001b[0m\u001b[0;34m)\u001b[0m\u001b[0;34m)\u001b[0m \u001b[0;32mfor\u001b[0m \u001b[0mdecision_tree\u001b[0m \u001b[0;32min\u001b[0m \u001b[0mdecision_trees\u001b[0m\u001b[0;34m]\u001b[0m\u001b[0;34m\u001b[0m\u001b[0;34m\u001b[0m\u001b[0m\n\u001b[0;32m----> 5\u001b[0;31m     \u001b[0mfinal_prediction\u001b[0m \u001b[0;34m=\u001b[0m \u001b[0maggregate_predictions\u001b[0m\u001b[0;34m(\u001b[0m\u001b[0mpredictions\u001b[0m\u001b[0;34m)\u001b[0m\u001b[0;34m\u001b[0m\u001b[0;34m\u001b[0m\u001b[0m\n\u001b[0m\u001b[1;32m      6\u001b[0m     \u001b[0;32mreturn\u001b[0m \u001b[0mfinal_prediction\u001b[0m\u001b[0;34m\u001b[0m\u001b[0;34m\u001b[0m\u001b[0m\n",
            "\u001b[0;32m<ipython-input-10-a449b2471c7e>\u001b[0m in \u001b[0;36maggregate_predictions\u001b[0;34m(predictions)\u001b[0m\n\u001b[1;32m      1\u001b[0m \u001b[0;32mdef\u001b[0m \u001b[0maggregate_predictions\u001b[0m\u001b[0;34m(\u001b[0m\u001b[0mpredictions\u001b[0m\u001b[0;34m)\u001b[0m\u001b[0;34m:\u001b[0m\u001b[0;34m\u001b[0m\u001b[0;34m\u001b[0m\u001b[0m\n\u001b[0;32m----> 2\u001b[0;31m     \u001b[0;32mreturn\u001b[0m \u001b[0mmode\u001b[0m\u001b[0;34m(\u001b[0m\u001b[0mpredictions\u001b[0m\u001b[0;34m,\u001b[0m \u001b[0maxis\u001b[0m\u001b[0;34m=\u001b[0m\u001b[0;36m0\u001b[0m\u001b[0;34m)\u001b[0m\u001b[0;34m[\u001b[0m\u001b[0;36m0\u001b[0m\u001b[0;34m]\u001b[0m\u001b[0;34m.\u001b[0m\u001b[0mravel\u001b[0m\u001b[0;34m(\u001b[0m\u001b[0;34m)\u001b[0m\u001b[0;34m\u001b[0m\u001b[0;34m\u001b[0m\u001b[0m\n\u001b[0m",
            "\u001b[0;31mNameError\u001b[0m: name 'mode' is not defined"
          ]
        }
      ],
      "source": [
        "final_prediction = random_forest_predict(df, num_samples, sample_size, target_attributes)\n",
        "print(final_prediction)"
      ]
    },
    {
      "cell_type": "code",
      "execution_count": null,
      "metadata": {
        "id": "bYhTR7OGSAht"
      },
      "outputs": [],
      "source": [
        "from sklearn.ensemble import RandomForestClassifier\n",
        "\n",
        "random_forest = RandomForestClassifier(n_estimators=100, class_weight='balanced')\n",
        "\n",
        "random_forest.fit(X_train_scaled, y_train)"
      ]
    },
    {
      "cell_type": "code",
      "execution_count": null,
      "metadata": {
        "id": "1nnDWSHZR2iy"
      },
      "outputs": [],
      "source": [
        "X_train, X_test, y_train, y_test = train_test_split(X, y, test_size=0.2, random_state=42)\n",
        "accuracy = random_forest.score(X_test_scaled, y_test)\n",
        "print(\"Accuracy:\", accuracy)"
      ]
    },
    {
      "cell_type": "code",
      "execution_count": null,
      "metadata": {
        "id": "Ai-MbEbVYHhy"
      },
      "outputs": [],
      "source": [
        "from sklearn import datasets\n",
        "iris = datasets.load_iris()\n",
        "colnames=['sepal_length','sepal_width','petal_length','petal_width','type']"
      ]
    },
    {
      "cell_type": "code",
      "execution_count": null,
      "metadata": {
        "id": "DLIBn3jR9tsz"
      },
      "outputs": [],
      "source": [
        "print(iris.target_names)\n",
        "print(iris.feature_names)"
      ]
    },
    {
      "cell_type": "code",
      "execution_count": null,
      "metadata": {
        "id": "4YrJUuvL-hnv"
      },
      "outputs": [],
      "source": [
        "print(iris.data[0:5])\n",
        "print(iris.target)"
      ]
    },
    {
      "cell_type": "code",
      "execution_count": null,
      "metadata": {
        "colab": {
          "background_save": true
        },
        "id": "XqfIedKTcg7C",
        "outputId": "8b5e8238-7c8a-4663-a3ee-e25f6f7fe890"
      },
      "outputs": [
        {
          "ename": "AttributeError",
          "evalue": "drop",
          "output_type": "error",
          "traceback": [
            "\u001b[0;31m---------------------------------------------------------------------------\u001b[0m",
            "\u001b[0;31mKeyError\u001b[0m                                  Traceback (most recent call last)",
            "\u001b[0;32m/usr/local/lib/python3.10/dist-packages/sklearn/utils/_bunch.py\u001b[0m in \u001b[0;36m__getattr__\u001b[0;34m(self, key)\u001b[0m\n\u001b[1;32m     34\u001b[0m         \u001b[0;32mtry\u001b[0m\u001b[0;34m:\u001b[0m\u001b[0;34m\u001b[0m\u001b[0;34m\u001b[0m\u001b[0m\n\u001b[0;32m---> 35\u001b[0;31m             \u001b[0;32mreturn\u001b[0m \u001b[0mself\u001b[0m\u001b[0;34m[\u001b[0m\u001b[0mkey\u001b[0m\u001b[0;34m]\u001b[0m\u001b[0;34m\u001b[0m\u001b[0;34m\u001b[0m\u001b[0m\n\u001b[0m\u001b[1;32m     36\u001b[0m         \u001b[0;32mexcept\u001b[0m \u001b[0mKeyError\u001b[0m\u001b[0;34m:\u001b[0m\u001b[0;34m\u001b[0m\u001b[0;34m\u001b[0m\u001b[0m\n",
            "\u001b[0;31mKeyError\u001b[0m: 'drop'",
            "\nDuring handling of the above exception, another exception occurred:\n",
            "\u001b[0;31mAttributeError\u001b[0m                            Traceback (most recent call last)",
            "\u001b[0;32m<ipython-input-16-4b602231f4b8>\u001b[0m in \u001b[0;36m<cell line: 3>\u001b[0;34m()\u001b[0m\n\u001b[1;32m      1\u001b[0m \u001b[0;32mfrom\u001b[0m \u001b[0msklearn\u001b[0m\u001b[0;34m.\u001b[0m\u001b[0mmodel_selection\u001b[0m \u001b[0;32mimport\u001b[0m \u001b[0mtrain_test_split\u001b[0m\u001b[0;34m\u001b[0m\u001b[0;34m\u001b[0m\u001b[0m\n\u001b[1;32m      2\u001b[0m \u001b[0mclf\u001b[0m \u001b[0;34m=\u001b[0m \u001b[0mDecisionTreeClassifier\u001b[0m\u001b[0;34m(\u001b[0m\u001b[0mcriterion\u001b[0m \u001b[0;34m=\u001b[0m \u001b[0;34m'gini'\u001b[0m\u001b[0;34m)\u001b[0m\u001b[0;34m\u001b[0m\u001b[0;34m\u001b[0m\u001b[0m\n\u001b[0;32m----> 3\u001b[0;31m \u001b[0mX\u001b[0m \u001b[0;34m=\u001b[0m \u001b[0miris\u001b[0m\u001b[0;34m.\u001b[0m\u001b[0mdrop\u001b[0m\u001b[0;34m(\u001b[0m\u001b[0mcolumns\u001b[0m\u001b[0;34m=\u001b[0m\u001b[0;34m'type'\u001b[0m\u001b[0;34m)\u001b[0m\u001b[0;34m\u001b[0m\u001b[0;34m\u001b[0m\u001b[0m\n\u001b[0m\u001b[1;32m      4\u001b[0m \u001b[0my\u001b[0m \u001b[0;34m=\u001b[0m \u001b[0miris\u001b[0m\u001b[0;34m[\u001b[0m\u001b[0;34m'type'\u001b[0m\u001b[0;34m]\u001b[0m\u001b[0;34m\u001b[0m\u001b[0;34m\u001b[0m\u001b[0m\n\u001b[1;32m      5\u001b[0m \u001b[0mX_train\u001b[0m\u001b[0;34m,\u001b[0m\u001b[0mX_test\u001b[0m\u001b[0;34m,\u001b[0m\u001b[0my_train\u001b[0m\u001b[0;34m,\u001b[0m\u001b[0my_test\u001b[0m \u001b[0;34m=\u001b[0m \u001b[0mtrain_test_split\u001b[0m\u001b[0;34m(\u001b[0m\u001b[0mX\u001b[0m\u001b[0;34m,\u001b[0m\u001b[0my\u001b[0m\u001b[0;34m,\u001b[0m\u001b[0mtest_size\u001b[0m\u001b[0;34m=\u001b[0m\u001b[0;36m0.3\u001b[0m\u001b[0;34m)\u001b[0m\u001b[0;34m\u001b[0m\u001b[0;34m\u001b[0m\u001b[0m\n",
            "\u001b[0;32m/usr/local/lib/python3.10/dist-packages/sklearn/utils/_bunch.py\u001b[0m in \u001b[0;36m__getattr__\u001b[0;34m(self, key)\u001b[0m\n\u001b[1;32m     35\u001b[0m             \u001b[0;32mreturn\u001b[0m \u001b[0mself\u001b[0m\u001b[0;34m[\u001b[0m\u001b[0mkey\u001b[0m\u001b[0;34m]\u001b[0m\u001b[0;34m\u001b[0m\u001b[0;34m\u001b[0m\u001b[0m\n\u001b[1;32m     36\u001b[0m         \u001b[0;32mexcept\u001b[0m \u001b[0mKeyError\u001b[0m\u001b[0;34m:\u001b[0m\u001b[0;34m\u001b[0m\u001b[0;34m\u001b[0m\u001b[0m\n\u001b[0;32m---> 37\u001b[0;31m             \u001b[0;32mraise\u001b[0m \u001b[0mAttributeError\u001b[0m\u001b[0;34m(\u001b[0m\u001b[0mkey\u001b[0m\u001b[0;34m)\u001b[0m\u001b[0;34m\u001b[0m\u001b[0;34m\u001b[0m\u001b[0m\n\u001b[0m\u001b[1;32m     38\u001b[0m \u001b[0;34m\u001b[0m\u001b[0m\n\u001b[1;32m     39\u001b[0m     \u001b[0;32mdef\u001b[0m \u001b[0m__setstate__\u001b[0m\u001b[0;34m(\u001b[0m\u001b[0mself\u001b[0m\u001b[0;34m,\u001b[0m \u001b[0mstate\u001b[0m\u001b[0;34m)\u001b[0m\u001b[0;34m:\u001b[0m\u001b[0;34m\u001b[0m\u001b[0;34m\u001b[0m\u001b[0m\n",
            "\u001b[0;31mAttributeError\u001b[0m: drop"
          ]
        }
      ],
      "source": [
        "from sklearn.model_selection import train_test_split\n",
        "clf = DecisionTreeClassifier(criterion = 'gini')\n",
        "X = iris.drop(columns='type')\n",
        "y = iris['type']\n",
        "X_train,X_test,y_train,y_test = train_test_split(X,y,test_size=0.3)\n",
        "clf=clf.fit(X_train,y_train)\n",
        "y_pred = clf.predict(X_test)\n",
        "print(\"ACCURACY:\",metrics.accuracy_score(y_test,y_pred))"
      ]
    },
    {
      "cell_type": "code",
      "execution_count": null,
      "metadata": {
        "id": "xib9mZJUYkeb"
      },
      "outputs": [],
      "source": [
        "from sklearn.ensemble import RandomForestClassifier\n",
        "\n",
        "clf=RandomForestClassifier(n_estimators=100)\n",
        "clf.fit(X_train, y_train)\n",
        "\n"
      ]
    },
    {
      "cell_type": "code",
      "execution_count": null,
      "metadata": {
        "id": "5NyXnWBm7j3u"
      },
      "outputs": [],
      "source": [
        "from sklearn.ensemble import RandomForestClassifier\n",
        "\n",
        "rf = RandomForestClassifier(bootstrap=True,\n",
        "                             class_weight=None,\n",
        "                             criterion='gini',\n",
        "                             max_depth=None,\n",
        "                             max_features='auto',\n",
        "                             max_leaf_nodes=None,\n",
        "                             min_impurity_decrease=0.0,\n",
        "                             min_samples_leaf=1,\n",
        "                             min_samples_split=2)\n"
      ]
    },
    {
      "cell_type": "code",
      "execution_count": null,
      "metadata": {
        "id": "CEAX83KW_eUe"
      },
      "outputs": [],
      "source": [
        "feature_imp = pd.Series(clf.feature_importances_,index=iris.feature_names).sort_values(ascending=False)\n",
        "print(feature_imp)"
      ]
    },
    {
      "cell_type": "code",
      "execution_count": null,
      "metadata": {
        "id": "PsJjjQs3dgj6"
      },
      "outputs": [],
      "source": [
        "sns.barplot(x=feature_imp,y=feature_imp.index)\n",
        "plt.xlabel('FEATURE IMPORTANCE SCORE')\n",
        "plt.ylabel('FEATURES')\n",
        "plt.title('VISULAIZE IMPORTANT FEATURE')\n",
        "plt.legend()\n",
        "plt.show()"
      ]
    },
    {
      "cell_type": "code",
      "execution_count": null,
      "metadata": {
        "id": "DTKMFwGRBFEe"
      },
      "outputs": [],
      "source": [
        "clf=RandomForestClassifier(n_estimators=100)\n",
        "clf.fit(X_train, y_train)\n",
        "y_predict=clf.predict(X_test)\n",
        "print('ACCURACY: ',metrics.accuracy_score(y_test,y_pred))"
      ]
    },
    {
      "cell_type": "code",
      "execution_count": null,
      "metadata": {
        "id": "clX0ZVnsAuTE"
      },
      "outputs": [],
      "source": [
        "X = df.iloc[:, :-1]\n",
        "y=df['diagnosis']\n",
        "X_train, X_test, y_train, y_test = train_test_split(X, y, test_size=0.2, random_state=42)"
      ]
    },
    {
      "cell_type": "code",
      "execution_count": null,
      "metadata": {
        "id": "DULm4-DISrl_"
      },
      "outputs": [],
      "source": [
        "rf_full = RandomForestClassifier(n_estimators=100, random_state=42)\n",
        "rf_full.fit(X_train, y_train)\n",
        "y_pred_full = rf_full.predict(X_test)\n",
        "accuracy_full = accuracy_score(y_test, y_pred_full)"
      ]
    },
    {
      "cell_type": "code",
      "execution_count": null,
      "metadata": {
        "id": "Od8tMm0_S0-m"
      },
      "outputs": [],
      "source": [
        "from sklearn.feature_selection import SelectFromModel\n",
        "\n",
        "sfm = SelectFromModel(rf_full, threshold=0.05)\n",
        "X_train_sfm = sfm.fit_transform(X_train, y_train)\n",
        "X_test_sfm = sfm.transform(X_test)"
      ]
    },
    {
      "cell_type": "code",
      "execution_count": null,
      "metadata": {
        "id": "dc_jhdeAS3gm"
      },
      "outputs": [],
      "source": [
        "rf_sfm = RandomForestClassifier(n_estimators=100, random_state=42)\n",
        "rf_sfm.fit(X_train_sfm, y_train)\n",
        "y_pred_sfm = rf_sfm.predict(X_test_sfm)\n",
        "accuracy_sfm = accuracy_score(y_test, y_pred_sfm)\n",
        "\n",
        "print(\"Breast Cancer Dataset:\")\n",
        "print(\"Accuracy without feature selection:\", accuracy_full)\n",
        "print(\"Accuracy with feature selection:\", accuracy_sfm)"
      ]
    },
    {
      "cell_type": "code",
      "execution_count": null,
      "metadata": {
        "id": "XQYlUHwiS5nF"
      },
      "outputs": [],
      "source": [
        "df1 = pd.read_csv('/content/Iris.csv')\n",
        "X = df1.drop(columns=['Species'])\n",
        "y = df1['Species']\n",
        "X_train, X_test, y_train, y_test = train_test_split(X, y, test_size=0.2, random_state=42)"
      ]
    },
    {
      "cell_type": "code",
      "execution_count": null,
      "metadata": {
        "id": "VuaPewB6S-mI"
      },
      "outputs": [],
      "source": [
        "rf_full = RandomForestClassifier(n_estimators=100, random_state=42)\n",
        "rf_full.fit(X_train, y_train)\n",
        "y_pred_full = rf_full.predict(X_test)\n",
        "accuracy_full = accuracy_score(y_test, y_pred_full)"
      ]
    },
    {
      "cell_type": "code",
      "execution_count": null,
      "metadata": {
        "id": "3Zcuq7t4T-6V"
      },
      "outputs": [],
      "source": [
        "sfm = SelectFromModel(rf_full, threshold=0.05)\n",
        "X_train_sfm = sfm.fit_transform(X_train, y_train)\n",
        "X_test_sfm = sfm.transform(X_test)"
      ]
    },
    {
      "cell_type": "code",
      "execution_count": null,
      "metadata": {
        "id": "6KaBhb4rUDbe"
      },
      "outputs": [],
      "source": [
        "rf_sfm = RandomForestClassifier(n_estimators=100, random_state=42)\n",
        "rf_sfm.fit(X_train_sfm, y_train)\n",
        "y_pred_sfm = rf_sfm.predict(X_test_sfm)\n",
        "accuracy_sfm = accuracy_score(y_test, y_pred_sfm)\n",
        "\n",
        "print(\"Iris Dataset:\")\n",
        "print(\"Accuracy without feature selection:\", accuracy_full)\n",
        "print(\"Accuracy with feature selection:\", accuracy_sfm)"
      ]
    }
  ],
  "metadata": {
    "colab": {
      "provenance": []
    },
    "kernelspec": {
      "display_name": "Python 3",
      "name": "python3"
    },
    "language_info": {
      "name": "python"
    }
  },
  "nbformat": 4,
  "nbformat_minor": 0
}